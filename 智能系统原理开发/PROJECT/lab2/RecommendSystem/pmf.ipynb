{
 "cells": [
  {
   "cell_type": "code",
   "execution_count": 1,
   "metadata": {
    "pycharm": {
     "is_executing": false
    }
   },
   "outputs": [],
   "source": [
    "import numpy as np\n",
    "import pandas as pd\n",
    "import time\n",
    "from tqdm import tqdm"
   ]
  },
  {
   "cell_type": "code",
   "execution_count": 2,
   "metadata": {
    "pycharm": {
     "is_executing": false
    }
   },
   "outputs": [
    {
     "name": "stdout",
     "text": [
      "number of user is 2967 | Number of item = 4124\n"
     ],
     "output_type": "stream"
    }
   ],
   "source": [
    "df = pd.read_csv('train.csv')\n",
    "n_users = df.userID.unique().shape[0]\n",
    "n_items = df.loc[:,['itemID']].max()['itemID']\n",
    "print('number of user is '+ str(n_users) + ' | Number of item = ' + str(n_items))"
   ]
  },
  {
   "cell_type": "code",
   "execution_count": 3,
   "metadata": {
    "pycharm": {
     "is_executing": false
    }
   },
   "outputs": [],
   "source": [
    "from sklearn import model_selection as ms\n",
    "train_data,test_data = ms.train_test_split(df, test_size = 0.25)\n",
    "train_data_matrix = np.zeros((n_users,n_items))\n",
    "test_data_matrix = np.zeros((n_users,n_items))\n",
    "#print(train_data_matrix.shape)\n",
    "for line in train_data.itertuples():\n",
    "    #print(line)\n",
    "    train_data_matrix[int(line[1])-1, int(line[2])-1] = line[3]\n",
    "for line in test_data.itertuples():\n",
    "    #print(line)\n",
    "    test_data_matrix[int(line[1])-1, int(line[2])-1] = line[3]\n",
    "train_data_matrix[:,0] += 1e-9;\n",
    "train_data_matrix[0] += 1e-9\n",
    "test_data_matrix[:,0] += 1e-9;\n",
    "test_data_matrix[0] += 1e-9;"
   ]
  },
  {
   "cell_type": "code",
   "execution_count": 4,
   "metadata": {
    "pycharm": {
     "is_executing": false
    }
   },
   "outputs": [],
   "source": [
    "import time\n",
    "from tqdm import tqdm"
   ]
  },
  {
   "cell_type": "code",
   "execution_count": 5,
   "metadata": {
    "pycharm": {
     "is_executing": false
    }
   },
   "outputs": [
    {
     "name": "stdout",
     "text": [
      "(2967, 4124)\n"
     ],
     "output_type": "stream"
    }
   ],
   "source": [
    "connect_user_item = np.zeros((n_users,n_items))\n",
    "#connect_user_item[connect_user_item != 0] = 1;\n",
    "for i in range(0, n_users):\n",
    "    for j in range(0, n_items):\n",
    "        if(train_data_matrix[i,j] != 0):\n",
    "            connect_user_item[i,j] = 1;\n",
    "print(connect_user_item.shape)\n",
    "#print(train_data_matrix)"
   ]
  },
  {
   "cell_type": "code",
   "execution_count": 6,
   "metadata": {
    "pycharm": {
     "is_executing": false
    }
   },
   "outputs": [],
   "source": [
    "n_features = 3;#参数\n",
    "f_users = np.full((n_users, n_features),0.5)\n",
    "f_items = np.full((n_items, n_features),0.5)\n",
    "landar = 0.5\n",
    "#print(type(f_users[0]))\n",
    "#print(f_users.shape)\n",
    "#print(sum(f_users[2]))"
   ]
  },
  {
   "cell_type": "code",
   "execution_count": 7,
   "metadata": {
    "pycharm": {
     "is_executing": false
    }
   },
   "outputs": [],
   "source": [
    "#tmp1 = np.zeros((n_users, n_features))\n",
    "#tmp2 = np.zeros(n_users)\n",
    "#for i in tqdm(range(0, n_users)):\n",
    "#    for j in range(0, n_items):\n",
    "#       if(train_data_matrix[i,j] != 0):\n",
    "#            tmp1[i] = tmp1[i] + train_data_matrix[i][j] * f_items[i]\n",
    "#            tmp2[i] = tmp2[i] + np.dot(f_items[j], f_items[j])\n",
    "#for i in tqdm(range(0, n_users)):\n",
    "#    f_users[i] = tmp1[i] / ( tmp2[i]+landar)"
   ]
  },
  {
   "cell_type": "code",
   "execution_count": 8,
   "metadata": {
    "pycharm": {
     "is_executing": false
    }
   },
   "outputs": [],
   "source": [
    "def count_f_users():\n",
    "    #f_users = np.full((n_users, n_features),0.5)\n",
    "    #f_items = np.full((n_items, n_features),0.5)\n",
    "    tmp1 = np.zeros((n_users, n_features))\n",
    "    tmp2 = np.zeros(n_users)\n",
    "    for i in range(0, n_users):\n",
    "        for j in range(0, n_items):\n",
    "            if(train_data_matrix[i,j] != 0):\n",
    "                tmp1[i] = tmp1[i] + train_data_matrix[i][j] * f_items[i]\n",
    "                tmp2[i] = tmp2[i] + np.dot(f_items[j], f_items[j])\n",
    "    for i in tqdm(range(0, n_users)):\n",
    "        f_users[i] = tmp1[i] / ( tmp2[i]+landar)\n",
    "    return f_users"
   ]
  },
  {
   "cell_type": "code",
   "execution_count": 9,
   "metadata": {
    "pycharm": {
     "is_executing": false
    }
   },
   "outputs": [],
   "source": [
    "#print(count_f_users(n_users, n_items, 3, ))"
   ]
  },
  {
   "cell_type": "code",
   "execution_count": 10,
   "metadata": {
    "pycharm": {
     "is_executing": false
    }
   },
   "outputs": [],
   "source": [
    "#tmp3 = np.zeros((n_items, n_features))\n",
    "#tmp4 = np.zeros(n_items)\n",
    "#for i in tqdm(range(0, n_users)):\n",
    "#    for j in range(0, n_items):\n",
    "#        if(train_data_matrix[i,j] != 0):\n",
    "#            tmp3[j] = tmp3[j] + train_data_matrix[i,j] * f_users[i]\n",
    "#            tmp4[j] = tmp4[j] + np.dot(f_users[i], f_users[i])\n",
    "#for i in tqdm(range(0, n_items)):\n",
    "#    f_items[i] = tmp3[i] / ( tmp4[i] + landar)"
   ]
  },
  {
   "cell_type": "code",
   "execution_count": 11,
   "metadata": {
    "pycharm": {
     "is_executing": false
    }
   },
   "outputs": [],
   "source": [
    "def count_f_items():\n",
    "    #f_items = np.full((n_items, n_features),0.5)\n",
    "    #f_users = np.full((n_users, n_features),0.5)\n",
    "    tmp3 = np.zeros((n_items, n_features))\n",
    "    tmp4 = np.zeros(n_items)\n",
    "    for i in range(0, n_users):\n",
    "        for j in range(0, n_items):\n",
    "            if(train_data_matrix[i,j] != 0):\n",
    "                tmp3[j] = tmp3[j] + train_data_matrix[i,j] * f_users[i]\n",
    "                tmp4[j] = tmp4[j] + np.dot(f_users[i], f_users[i])\n",
    "    for i in range(0, n_items):\n",
    "        f_items[i] = tmp3[i] / ( tmp4[i] + landar)\n",
    "    return f_items"
   ]
  },
  {
   "cell_type": "code",
   "execution_count": 12,
   "metadata": {
    "pycharm": {
     "is_executing": false
    }
   },
   "outputs": [],
   "source": [
    "#print(count_f_items(n_users, n_items, 3))"
   ]
  },
  {
   "cell_type": "code",
   "execution_count": 13,
   "metadata": {
    "scrolled": true,
    "pycharm": {
     "is_executing": false
    }
   },
   "outputs": [
    {
     "name": "stderr",
     "text": [
      "100%|██████████| 2967/2967 [00:00<00:00, 119170.51it/s]\n",
      "100%|██████████| 2967/2967 [00:00<00:00, 118982.51it/s]\n",
      "100%|██████████| 2967/2967 [00:00<00:00, 129358.02it/s]\n",
      "100%|██████████| 2967/2967 [00:00<00:00, 156577.92it/s]\n",
      "100%|██████████| 2967/2967 [00:00<00:00, 110174.14it/s]\n",
      "100%|██████████| 2967/2967 [00:00<00:00, 141656.23it/s]\n",
      "100%|██████████| 2967/2967 [00:00<00:00, 165280.97it/s]\n",
      "100%|██████████| 2967/2967 [00:00<00:00, 156579.89it/s]\n",
      "100%|██████████| 2967/2967 [00:00<00:00, 156583.83it/s]\n",
      "100%|██████████| 2967/2967 [00:00<00:00, 185858.09it/s]\n",
      "100%|██████████| 2967/2967 [00:00<00:00, 165287.55it/s]\n",
      "100%|██████████| 2967/2967 [00:00<00:00, 211961.98it/s]\n",
      "100%|██████████| 2967/2967 [00:00<00:00, 156572.01it/s]\n",
      "100%|██████████| 2967/2967 [00:00<00:00, 164843.10it/s]\n",
      "100%|██████████| 2967/2967 [00:00<00:00, 165276.58it/s]\n",
      "100%|██████████| 2967/2967 [00:00<00:00, 165272.19it/s]\n",
      "100%|██████████| 2967/2967 [00:00<00:00, 185963.63it/s]\n",
      "100%|██████████| 2967/2967 [00:00<00:00, 198302.92it/s]\n",
      "100%|██████████| 2967/2967 [00:00<00:00, 175420.42it/s]\n",
      "100%|██████████| 2967/2967 [00:00<00:00, 135216.33it/s]\n"
     ],
     "output_type": "stream"
    }
   ],
   "source": [
    "k = 20\n",
    "while(k > 0):\n",
    "    k -= 1\n",
    "    f_users = count_f_users()\n",
    "    f_items = count_f_items()"
   ]
  },
  {
   "cell_type": "code",
   "execution_count": 14,
   "metadata": {
    "pycharm": {
     "is_executing": false
    }
   },
   "outputs": [
    {
     "name": "stdout",
     "text": [
      "[[4.70023316e-06 4.70023316e-06 4.70023316e-06]\n",
      " [8.31060896e-02 8.31060896e-02 8.31060896e-02]\n",
      " [1.64939007e-01 1.64939007e-01 1.64939007e-01]\n",
      " ...\n",
      " [1.06541015e+01 1.06541015e+01 1.06541015e+01]\n",
      " [1.81643429e+02 1.81643429e+02 1.81643429e+02]\n",
      " [1.14589178e+01 1.14589178e+01 1.14589178e+01]]\n",
      "[[3.67601793e-04 3.67601793e-04 3.67601793e-04]\n",
      " [1.30538852e-03 1.30538852e-03 1.30538852e-03]\n",
      " [1.42166951e-03 1.42166951e-03 1.42166951e-03]\n",
      " ...\n",
      " [3.55408501e-13 3.55408501e-13 3.55408501e-13]\n",
      " [9.40046631e-15 9.40046631e-15 9.40046631e-15]\n",
      " [1.96360958e-03 1.96360958e-03 1.96360958e-03]]\n"
     ],
     "output_type": "stream"
    }
   ],
   "source": [
    "print(f_users)\n",
    "print(f_items)"
   ]
  },
  {
   "cell_type": "code",
   "execution_count": 15,
   "metadata": {
    "pycharm": {
     "is_executing": false
    }
   },
   "outputs": [
    {
     "name": "stdout",
     "text": [
      "[[0.5        0.5        0.5        ... 0.5        0.5        0.5       ]\n",
      " [0.5        0.5        0.5        ... 0.5        0.5        0.5       ]\n",
      " [0.5        0.5        0.5        ... 0.5        0.5        0.5       ]\n",
      " ...\n",
      " [0.5        0.5        0.5        ... 0.5        0.5        0.5       ]\n",
      " [0.5        0.71134574 0.77471077 ... 0.5        0.5        1.07003033]\n",
      " [0.5        0.5        0.5        ... 0.5        0.5        0.5       ]]\n"
     ],
     "output_type": "stream"
    }
   ],
   "source": [
    "prediction = np.zeros(n_users,n_items)\n",
    "prediction = np.dot(f_users,f_items.T)\n",
    "prediction[prediction < 0.5] = 0.5\n",
    "prediction[prediction > 5] = 5\n",
    "print(prediction)"
   ]
  },
  {
   "cell_type": "code",
   "execution_count": 16,
   "metadata": {
    "pycharm": {
     "is_executing": false
    }
   },
   "outputs": [],
   "source": [
    "test_df = pd.read_csv(\"test_index.csv\")\n",
    "test_data_matrix = test_df.values\n",
    "\n",
    "predict_matrix = np.zeros((39679, 2))\n",
    "f = open('pmf_predict.csv','w')\n",
    "f.write('dataID,rating\\n')\n",
    "i = 0\n",
    "for i in range(test_data_matrix.shape[0]):\n",
    "    predict_matrix[i][0] = int(i)\n",
    "    predict_matrix[i][1] = prediction[test_data_matrix[i][0]][test_data_matrix[i][1]]\n",
    "    f.write('%d,%.8f\\n'%(predict_matrix[i][0],predict_matrix[i][1]))\n",
    "#print(predict_matrix)\n",
    "\n",
    "\n",
    "# predict_df = pd.DataFrame({\"dataID\": predict_matrix.T[0], \"rating\": predict_matrix.T[1]})\n",
    "# predict_df.to_csv(\"predict.csv\", index=False)"
   ]
  },
  {
   "cell_type": "code",
   "execution_count": 17,
   "metadata": {
    "pycharm": {
     "is_executing": false
    }
   },
   "outputs": [],
   "source": [
    "from sklearn.metrics import mean_squared_error\n",
    "from math import sqrt\n",
    "def rmse(prediction, ground_truth):\n",
    "    prediction = prediction[ground_truth.nonzero()].flatten()\n",
    "    ground_truth = ground_truth[ground_truth.nonzero()].flatten()\n",
    "    return sqrt(mean_squared_error(prediction, ground_truth))"
   ]
  },
  {
   "cell_type": "code",
   "execution_count": 18,
   "metadata": {
    "pycharm": {
     "is_executing": false
    }
   },
   "outputs": [],
   "source": [
    "#delta = 1\n",
    "# best_k = -1\n",
    "# result_with_test = 100\n",
    "# best_result = 100\n",
    "# for i in tqdm(range(10,20)):\n",
    "#     while(delta > 0.1):\n",
    "#         print(i)\n",
    "#         f_users = np.zeros((n_users, i))\n",
    "#         f_items = np.zeros((n_items, i))\n",
    "#         f_users = count_f_users(n_users, n_items, i)\n",
    "#         f_items = count_f_items(n_users, n_items, i)\n",
    "#         prediction = np.dot(f_users, f_items.T)\n",
    "#         delta = rmse(prediction, train_data_matrix)\n",
    "#         print(delta)\n",
    "#     result_with_test = rmse(prediction, test_data_matrix)\n",
    "#     if(result_with_test < best_result):\n",
    "#         best_result = result_with_test\n",
    "#         best_k = i\n",
    "#         print(\"best_k changed \" + i)\n",
    "# print(i)"
   ]
  },
  {
   "cell_type": "code",
   "execution_count": 19,
   "metadata": {
    "pycharm": {
     "is_executing": false
    }
   },
   "outputs": [],
   "source": [
    "#print(i)"
   ]
  },
  {
   "cell_type": "code",
   "execution_count": 19,
   "metadata": {
    "pycharm": {
     "is_executing": false
    }
   },
   "outputs": [],
   "source": []
  }
 ],
 "metadata": {
  "kernelspec": {
   "display_name": "Python 3",
   "language": "python",
   "name": "python3"
  },
  "language_info": {
   "codemirror_mode": {
    "name": "ipython",
    "version": 3
   },
   "file_extension": ".py",
   "mimetype": "text/x-python",
   "name": "python",
   "nbconvert_exporter": "python",
   "pygments_lexer": "ipython3",
   "version": "3.7.4"
  },
  "pycharm": {
   "stem_cell": {
    "cell_type": "raw",
    "source": [],
    "metadata": {
     "collapsed": false
    }
   }
  }
 },
 "nbformat": 4,
 "nbformat_minor": 2
}